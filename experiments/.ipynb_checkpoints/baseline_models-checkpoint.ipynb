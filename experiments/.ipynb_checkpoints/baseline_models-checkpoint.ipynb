{
 "cells": [
  {
   "cell_type": "code",
   "execution_count": 1,
   "id": "790bc60e-b8e9-4603-b4fd-e50295a88a02",
   "metadata": {},
   "outputs": [
    {
     "data": {
      "text/html": [
       "<div>\n",
       "<style scoped>\n",
       "    .dataframe tbody tr th:only-of-type {\n",
       "        vertical-align: middle;\n",
       "    }\n",
       "\n",
       "    .dataframe tbody tr th {\n",
       "        vertical-align: top;\n",
       "    }\n",
       "\n",
       "    .dataframe thead th {\n",
       "        text-align: right;\n",
       "    }\n",
       "</style>\n",
       "<table border=\"1\" class=\"dataframe\">\n",
       "  <thead>\n",
       "    <tr style=\"text-align: right;\">\n",
       "      <th></th>\n",
       "      <th>Prompt</th>\n",
       "      <th>isMalicious</th>\n",
       "    </tr>\n",
       "  </thead>\n",
       "  <tbody>\n",
       "    <tr>\n",
       "      <th>0</th>\n",
       "      <td>How did the \"Coronation Street\" storyline hand...</td>\n",
       "      <td>1</td>\n",
       "    </tr>\n",
       "    <tr>\n",
       "      <th>1</th>\n",
       "      <td>Login to Snapchat?</td>\n",
       "      <td>0</td>\n",
       "    </tr>\n",
       "    <tr>\n",
       "      <th>2</th>\n",
       "      <td>I've been having a hard time getting back into...</td>\n",
       "      <td>1</td>\n",
       "    </tr>\n",
       "    <tr>\n",
       "      <th>3</th>\n",
       "      <td>What is the best way to budget my money?</td>\n",
       "      <td>1</td>\n",
       "    </tr>\n",
       "    <tr>\n",
       "      <th>4</th>\n",
       "      <td>Is it rude to say that I don’t understand “Cau...</td>\n",
       "      <td>0</td>\n",
       "    </tr>\n",
       "  </tbody>\n",
       "</table>\n",
       "</div>"
      ],
      "text/plain": [
       "                                              Prompt  isMalicious\n",
       "0  How did the \"Coronation Street\" storyline hand...            1\n",
       "1                                 Login to Snapchat?            0\n",
       "2  I've been having a hard time getting back into...            1\n",
       "3           What is the best way to budget my money?            1\n",
       "4  Is it rude to say that I don’t understand “Cau...            0"
      ]
     },
     "execution_count": 1,
     "metadata": {},
     "output_type": "execute_result"
    }
   ],
   "source": [
    "import pandas as pd\n",
    "\n",
    "df = pd.read_csv(\"../processed_data/MPDD.csv\")\n",
    "\n",
    "# Affiche quelques exemples\n",
    "df.head()\n"
   ]
  },
  {
   "cell_type": "code",
   "execution_count": 2,
   "id": "7f70bd5a-568d-488f-a7e9-c9cf57ba5fad",
   "metadata": {},
   "outputs": [
    {
     "data": {
      "text/plain": [
       "isMalicious\n",
       "1    0.5\n",
       "0    0.5\n",
       "Name: proportion, dtype: float64"
      ]
     },
     "execution_count": 2,
     "metadata": {},
     "output_type": "execute_result"
    }
   ],
   "source": [
    "df['isMalicious'].value_counts(normalize=True)"
   ]
  },
  {
   "cell_type": "code",
   "execution_count": 3,
   "id": "4d57c172-53e9-4933-9368-0a360921aaa8",
   "metadata": {},
   "outputs": [],
   "source": [
    "from sklearn.model_selection import train_test_split"
   ]
  },
  {
   "cell_type": "code",
   "execution_count": 4,
   "id": "0a2dd10f-9ccb-4f1c-9cec-d0835e1a8275",
   "metadata": {},
   "outputs": [],
   "source": [
    "X_train, X_test, y_train, y_test = train_test_split(\n",
    "    df['Prompt'], df['isMalicious'], \n",
    "    test_size=0.2, random_state=42, stratify=df['isMalicious']\n",
    ")\n"
   ]
  },
  {
   "cell_type": "code",
   "execution_count": 5,
   "id": "5be1d0ec-c5c4-4a50-b600-66c99a1d7adf",
   "metadata": {},
   "outputs": [],
   "source": [
    "from sklearn.feature_extraction.text import TfidfVectorizer\n",
    "\n",
    "vectorizer = TfidfVectorizer(\n",
    "    max_features=5000,\n",
    "    ngram_range=(1,2),\n",
    ")\n",
    "\n",
    "X_train_tfidf = vectorizer.fit_transform(X_train)\n",
    "X_test_tfidf = vectorizer.transform(X_test)"
   ]
  },
  {
   "cell_type": "code",
   "execution_count": 6,
   "id": "9234bc48-e8ba-4287-8d1e-fc4fd779f6c3",
   "metadata": {},
   "outputs": [],
   "source": [
    "from sklearn.metrics import accuracy_score, f1_score, classification_report, confusion_matrix\n",
    "\n",
    "def evaluate_model(name, model, X_train, y_train, X_test, y_test, results):\n",
    "    model.fit(X_train, y_train)\n",
    "    y_pred = model.predict(X_test)\n",
    "\n",
    "    acc = accuracy_score(y_test, y_pred)\n",
    "    f1 = f1_score(y_test, y_pred)\n",
    "\n",
    "    print(f\"\\n=== {name} ===\")\n",
    "    print(classification_report(y_test, y_pred))\n",
    "    print(\"Confusion Matrix:\\n\", confusion_matrix(y_test, y_pred))\n",
    "\n",
    "    results.append({'Model': name, 'Accuracy': acc, 'F1': f1})\n",
    "    return results"
   ]
  },
  {
   "cell_type": "code",
   "execution_count": 7,
   "id": "cd067988-b940-434c-9000-b8afa917ec63",
   "metadata": {},
   "outputs": [],
   "source": [
    "from sklearn.dummy import DummyClassifier\n",
    "from sklearn.linear_model import LogisticRegression\n",
    "from sklearn.naive_bayes import MultinomialNB\n",
    "from sklearn.svm import LinearSVC\n",
    "from sklearn.ensemble import RandomForestClassifier\n",
    "from xgboost import XGBClassifier"
   ]
  },
  {
   "cell_type": "code",
   "execution_count": 8,
   "id": "4db1911e-79f6-4608-ba7f-b1a1d8afab95",
   "metadata": {},
   "outputs": [
    {
     "name": "stdout",
     "output_type": "stream",
     "text": [
      "\n",
      "=== Dummy (Most Frequent) ===\n",
      "              precision    recall  f1-score   support\n",
      "\n",
      "           0       0.00      0.00      0.00      3924\n",
      "           1       0.50      1.00      0.67      3923\n",
      "\n",
      "    accuracy                           0.50      7847\n",
      "   macro avg       0.25      0.50      0.33      7847\n",
      "weighted avg       0.25      0.50      0.33      7847\n",
      "\n",
      "Confusion Matrix:\n",
      " [[   0 3924]\n",
      " [   0 3923]]\n",
      "\n",
      "=== Logistic Regression ===\n",
      "              precision    recall  f1-score   support\n",
      "\n",
      "           0       0.94      0.98      0.96      3924\n",
      "           1       0.98      0.93      0.95      3923\n",
      "\n",
      "    accuracy                           0.96      7847\n",
      "   macro avg       0.96      0.96      0.96      7847\n",
      "weighted avg       0.96      0.96      0.96      7847\n",
      "\n",
      "Confusion Matrix:\n",
      " [[3842   82]\n",
      " [ 265 3658]]\n",
      "\n",
      "=== Naive Bayes ===\n",
      "              precision    recall  f1-score   support\n",
      "\n",
      "           0       0.90      0.98      0.94      3924\n",
      "           1       0.98      0.89      0.93      3923\n",
      "\n",
      "    accuracy                           0.94      7847\n",
      "   macro avg       0.94      0.94      0.94      7847\n",
      "weighted avg       0.94      0.94      0.94      7847\n",
      "\n",
      "Confusion Matrix:\n",
      " [[3860   64]\n",
      " [ 425 3498]]\n"
     ]
    },
    {
     "name": "stderr",
     "output_type": "stream",
     "text": [
      "/home/aminejeb/miniconda3/envs/prompt_malicious/lib/python3.11/site-packages/sklearn/metrics/_classification.py:1706: UndefinedMetricWarning: Precision is ill-defined and being set to 0.0 in labels with no predicted samples. Use `zero_division` parameter to control this behavior.\n",
      "  _warn_prf(average, modifier, f\"{metric.capitalize()} is\", result.shape[0])\n",
      "/home/aminejeb/miniconda3/envs/prompt_malicious/lib/python3.11/site-packages/sklearn/metrics/_classification.py:1706: UndefinedMetricWarning: Precision is ill-defined and being set to 0.0 in labels with no predicted samples. Use `zero_division` parameter to control this behavior.\n",
      "  _warn_prf(average, modifier, f\"{metric.capitalize()} is\", result.shape[0])\n",
      "/home/aminejeb/miniconda3/envs/prompt_malicious/lib/python3.11/site-packages/sklearn/metrics/_classification.py:1706: UndefinedMetricWarning: Precision is ill-defined and being set to 0.0 in labels with no predicted samples. Use `zero_division` parameter to control this behavior.\n",
      "  _warn_prf(average, modifier, f\"{metric.capitalize()} is\", result.shape[0])\n"
     ]
    },
    {
     "name": "stdout",
     "output_type": "stream",
     "text": [
      "\n",
      "=== Linear SVM ===\n",
      "              precision    recall  f1-score   support\n",
      "\n",
      "           0       0.94      0.97      0.96      3924\n",
      "           1       0.97      0.94      0.95      3923\n",
      "\n",
      "    accuracy                           0.96      7847\n",
      "   macro avg       0.96      0.96      0.96      7847\n",
      "weighted avg       0.96      0.96      0.96      7847\n",
      "\n",
      "Confusion Matrix:\n",
      " [[3805  119]\n",
      " [ 231 3692]]\n",
      "\n",
      "=== Random Forest ===\n",
      "              precision    recall  f1-score   support\n",
      "\n",
      "           0       0.93      0.99      0.96      3924\n",
      "           1       0.99      0.93      0.96      3923\n",
      "\n",
      "    accuracy                           0.96      7847\n",
      "   macro avg       0.96      0.96      0.96      7847\n",
      "weighted avg       0.96      0.96      0.96      7847\n",
      "\n",
      "Confusion Matrix:\n",
      " [[3890   34]\n",
      " [ 293 3630]]\n"
     ]
    },
    {
     "name": "stderr",
     "output_type": "stream",
     "text": [
      "/home/aminejeb/miniconda3/envs/prompt_malicious/lib/python3.11/site-packages/xgboost/training.py:183: UserWarning: [22:27:04] WARNING: /workspace/src/learner.cc:738: \n",
      "Parameters: { \"use_label_encoder\" } are not used.\n",
      "\n",
      "  bst.update(dtrain, iteration=i, fobj=obj)\n"
     ]
    },
    {
     "name": "stdout",
     "output_type": "stream",
     "text": [
      "\n",
      "=== XGBoost ===\n",
      "              precision    recall  f1-score   support\n",
      "\n",
      "           0       0.93      0.98      0.96      3924\n",
      "           1       0.98      0.93      0.95      3923\n",
      "\n",
      "    accuracy                           0.96      7847\n",
      "   macro avg       0.96      0.96      0.96      7847\n",
      "weighted avg       0.96      0.96      0.96      7847\n",
      "\n",
      "Confusion Matrix:\n",
      " [[3865   59]\n",
      " [ 285 3638]]\n"
     ]
    }
   ],
   "source": [
    "results = []\n",
    "\n",
    "models = [\n",
    "    ('Dummy (Most Frequent)', DummyClassifier(strategy='most_frequent')),\n",
    "    ('Logistic Regression', LogisticRegression(max_iter=1000)),\n",
    "    ('Naive Bayes', MultinomialNB()),\n",
    "    ('Linear SVM', LinearSVC()),\n",
    "    ('Random Forest', RandomForestClassifier(n_estimators=100)),\n",
    "    ('XGBoost', XGBClassifier(use_label_encoder=False, eval_metric='logloss')),\n",
    "]\n",
    "\n",
    "for name, model in models:\n",
    "    results = evaluate_model(name, model, X_train_tfidf, y_train, X_test_tfidf, y_test, results)\n"
   ]
  },
  {
   "cell_type": "code",
   "execution_count": 9,
   "id": "53202a05-fe55-4b49-bf7f-1b14fc93c211",
   "metadata": {},
   "outputs": [
    {
     "data": {
      "text/html": [
       "<div>\n",
       "<style scoped>\n",
       "    .dataframe tbody tr th:only-of-type {\n",
       "        vertical-align: middle;\n",
       "    }\n",
       "\n",
       "    .dataframe tbody tr th {\n",
       "        vertical-align: top;\n",
       "    }\n",
       "\n",
       "    .dataframe thead th {\n",
       "        text-align: right;\n",
       "    }\n",
       "</style>\n",
       "<table border=\"1\" class=\"dataframe\">\n",
       "  <thead>\n",
       "    <tr style=\"text-align: right;\">\n",
       "      <th></th>\n",
       "      <th>Model</th>\n",
       "      <th>Accuracy</th>\n",
       "      <th>F1</th>\n",
       "    </tr>\n",
       "  </thead>\n",
       "  <tbody>\n",
       "    <tr>\n",
       "      <th>4</th>\n",
       "      <td>Random Forest</td>\n",
       "      <td>0.958328</td>\n",
       "      <td>0.956900</td>\n",
       "    </tr>\n",
       "    <tr>\n",
       "      <th>5</th>\n",
       "      <td>XGBoost</td>\n",
       "      <td>0.956162</td>\n",
       "      <td>0.954856</td>\n",
       "    </tr>\n",
       "    <tr>\n",
       "      <th>3</th>\n",
       "      <td>Linear SVM</td>\n",
       "      <td>0.955397</td>\n",
       "      <td>0.954745</td>\n",
       "    </tr>\n",
       "    <tr>\n",
       "      <th>1</th>\n",
       "      <td>Logistic Regression</td>\n",
       "      <td>0.955779</td>\n",
       "      <td>0.954717</td>\n",
       "    </tr>\n",
       "    <tr>\n",
       "      <th>2</th>\n",
       "      <td>Naive Bayes</td>\n",
       "      <td>0.937683</td>\n",
       "      <td>0.934669</td>\n",
       "    </tr>\n",
       "    <tr>\n",
       "      <th>0</th>\n",
       "      <td>Dummy (Most Frequent)</td>\n",
       "      <td>0.499936</td>\n",
       "      <td>0.666610</td>\n",
       "    </tr>\n",
       "  </tbody>\n",
       "</table>\n",
       "</div>"
      ],
      "text/plain": [
       "                   Model  Accuracy        F1\n",
       "4          Random Forest  0.958328  0.956900\n",
       "5                XGBoost  0.956162  0.954856\n",
       "3             Linear SVM  0.955397  0.954745\n",
       "1    Logistic Regression  0.955779  0.954717\n",
       "2            Naive Bayes  0.937683  0.934669\n",
       "0  Dummy (Most Frequent)  0.499936  0.666610"
      ]
     },
     "execution_count": 9,
     "metadata": {},
     "output_type": "execute_result"
    }
   ],
   "source": [
    "results_df = pd.DataFrame(results)\n",
    "results_df.sort_values(by='F1', ascending=False)\n"
   ]
  },
  {
   "cell_type": "code",
   "execution_count": 10,
   "id": "62820a37-d3b2-4498-a5fa-cb0807f50471",
   "metadata": {},
   "outputs": [
    {
     "data": {
      "image/png": "[encoded data removed]",
      "text/plain": [
       "<Figure size 1000x500 with 1 Axes>"
      ]
     },
     "metadata": {},
     "output_type": "display_data"
    }
   ],
   "source": [
    "import seaborn as sns\n",
    "import matplotlib.pyplot as plt\n",
    "\n",
    "plt.figure(figsize=(10,5))\n",
    "sns.barplot(x='F1', y='Model', data=results_df.sort_values(by='F1', ascending=True))\n",
    "plt.title(\"Model Comparison (F1-score)\")\n",
    "plt.show()"
   ]
  },
  {
   "cell_type": "code",
   "execution_count": null,
   "id": "f72149cc-2e12-40b4-b82d-e4377ecb53c3",
   "metadata": {},
   "outputs": [],
   "source": []
  }
 ],
 "metadata": {
  "kernelspec": {
   "display_name": "Python 3 (ipykernel)",
   "language": "python",
   "name": "python3"
  },
  "language_info": {
   "codemirror_mode": {
    "name": "ipython",
    "version": 3
   },
   "file_extension": ".py",
   "mimetype": "text/x-python",
   "name": "python",
   "nbconvert_exporter": "python",
   "pygments_lexer": "ipython3",
   "version": "3.11.13"
  }
 },
 "nbformat": 4,
 "nbformat_minor": 5
}
