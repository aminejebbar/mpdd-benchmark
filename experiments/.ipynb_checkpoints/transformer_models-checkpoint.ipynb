{
 "cells": [
  {
   "cell_type": "markdown",
   "metadata": {},
   "source": [
    "### Transformer Models Comparison"
   ]
  },
  {
   "cell_type": "code",
   "execution_count": 2,
   "metadata": {
    "_cell_guid": "b1076dfc-b9ad-4769-8c92-a6c4dae69d19",
    "_uuid": "8f2839f25d086af736a60e9eeb907d3b93b6e0e5",
    "execution": {
     "iopub.execute_input": "2025-07-21T14:00:46.803481Z",
     "iopub.status.busy": "2025-07-21T14:00:46.803196Z",
     "iopub.status.idle": "2025-07-21T14:00:50.272409Z",
     "shell.execute_reply": "2025-07-21T14:00:50.271544Z",
     "shell.execute_reply.started": "2025-07-21T14:00:46.803450Z"
    }
   },
   "outputs": [],
   "source": [
    "!pip install transformers[torch] datasets accelerate evaluate -q"
   ]
  },
  {
   "cell_type": "code",
   "execution_count": 3,
   "metadata": {
    "execution": {
     "iopub.execute_input": "2025-07-21T14:00:59.269621Z",
     "iopub.status.busy": "2025-07-21T14:00:59.269349Z",
     "iopub.status.idle": "2025-07-21T14:01:08.532115Z",
     "shell.execute_reply": "2025-07-21T14:01:08.531295Z",
     "shell.execute_reply.started": "2025-07-21T14:00:59.269597Z"
    }
   },
   "outputs": [
    {
     "name": "stderr",
     "output_type": "stream",
     "text": [
      "2025-07-21 14:01:05.210318: E external/local_xla/xla/stream_executor/cuda/cuda_fft.cc:477] Unable to register cuFFT factory: Attempting to register factory for plugin cuFFT when one has already been registered\n",
      "WARNING: All log messages before absl::InitializeLog() is called are written to STDERR\n",
      "E0000 00:00:1753106465.233067     187 cuda_dnn.cc:8310] Unable to register cuDNN factory: Attempting to register factory for plugin cuDNN when one has already been registered\n",
      "E0000 00:00:1753106465.240031     187 cuda_blas.cc:1418] Unable to register cuBLAS factory: Attempting to register factory for plugin cuBLAS when one has already been registered\n"
     ]
    }
   ],
   "source": [
    "import pandas as pd\n",
    "from sklearn.model_selection import train_test_split\n",
    "from sklearn.metrics import accuracy_score, f1_score\n",
    "import os\n",
    "import torch\n",
    "from transformers import (\n",
    "    AutoTokenizer,\n",
    "    AutoModelForSequenceClassification,\n",
    "    Trainer,\n",
    "    TrainingArguments\n",
    ")\n",
    "from datasets import Dataset\n",
    "import matplotlib.pyplot as plt\n",
    "import seaborn as sns\n",
    "import gc\n",
    "import warnings\n",
    "warnings.filterwarnings('ignore')"
   ]
  },
  {
   "cell_type": "code",
   "execution_count": 4,
   "metadata": {
    "execution": {
     "iopub.execute_input": "2025-07-21T14:01:26.673552Z",
     "iopub.status.busy": "2025-07-21T14:01:26.672903Z",
     "iopub.status.idle": "2025-07-21T14:01:26.680208Z",
     "shell.execute_reply": "2025-07-21T14:01:26.679366Z",
     "shell.execute_reply.started": "2025-07-21T14:01:26.673521Z"
    }
   },
   "outputs": [],
   "source": [
    "def compute_metrics(eval_pred):\n",
    "    \"\"\"Compute accuracy and F1 score for evaluation\"\"\"\n",
    "    logits, labels = eval_pred\n",
    "    preds = logits.argmax(-1)\n",
    "    acc = accuracy_score(labels, preds)\n",
    "    f1 = f1_score(labels, preds, average='binary') \n",
    "    return {\"accuracy\": acc, \"f1\": f1}\n",
    "\n",
    "def plot_results(df):\n",
    "    \"\"\"Create visualization comparing model performance\"\"\"\n",
    "    plt.figure(figsize=(14, 6))\n",
    "    \n",
    "    plt.subplot(1, 2, 1)\n",
    "    sns.barplot(y='Model', x='F1', data=df.sort_values(by='F1', ascending=True), palette='Blues_d')\n",
    "    plt.title(\"F1-score of Models\")\n",
    "    plt.xlabel(\"F1 Score\")\n",
    "    \n",
    "    plt.subplot(1, 2, 2)\n",
    "    sns.barplot(y='Model', x='Accuracy', data=df.sort_values(by='Accuracy', ascending=True), palette='Greens_d')\n",
    "    plt.title(\"Accuracy of Models\")\n",
    "    plt.xlabel(\"Accuracy\")\n",
    "    \n",
    "    plt.tight_layout()\n",
    "    plt.savefig(\"transformers_models_comparison.png\", dpi=300, bbox_inches='tight')\n",
    "    plt.show()\n",
    "\n",
    "def clean_memory():\n",
    "    \"\"\"Clean GPU and RAM memory\"\"\"\n",
    "    gc.collect()\n",
    "    if torch.cuda.is_available():\n",
    "        torch.cuda.empty_cache()\n"
   ]
  },
  {
   "cell_type": "code",
   "execution_count": 5,
   "metadata": {
    "execution": {
     "iopub.execute_input": "2025-07-21T14:01:57.210437Z",
     "iopub.status.busy": "2025-07-21T14:01:57.209716Z",
     "iopub.status.idle": "2025-07-21T14:01:57.383733Z",
     "shell.execute_reply": "2025-07-21T14:01:57.382817Z",
     "shell.execute_reply.started": "2025-07-21T14:01:57.210410Z"
    }
   },
   "outputs": [
    {
     "name": "stdout",
     "output_type": "stream",
     "text": [
      "Loading data from: /kaggle/input/malicious-prompt-detection-dataset-mpdd/MPDD.csv\n",
      "Dataset shape: (39234, 2)\n",
      "\n",
      "Class distribution:\n",
      "isMalicious\n",
      "1    0.5\n",
      "0    0.5\n",
      "Name: proportion, dtype: float64\n",
      "\n",
      "First few rows:\n",
      "                                              Prompt  isMalicious\n",
      "0  How did the \"Coronation Street\" storyline hand...            1\n",
      "1                                 Login to Snapchat?            0\n",
      "2  I've been having a hard time getting back into...            1\n",
      "3           What is the best way to budget my money?            1\n",
      "4  Is it rude to say that I don’t understand “Cau...            0\n"
     ]
    }
   ],
   "source": [
    "possible_paths = [\n",
    "    \"/kaggle/input/malicious-prompt-detection-dataset-mpdd/MPDD.csv\",\n",
    "    \"../processed_data/MPDD.csv\"\n",
    "]\n",
    "\n",
    "df = None\n",
    "for path in possible_paths:\n",
    "    if os.path.exists(path):\n",
    "        print(f\"Loading data from: {path}\")\n",
    "        df = pd.read_csv(path)\n",
    "        break\n",
    "\n",
    "if df is None:\n",
    "    raise FileNotFoundError(\"MPDD.csv not found. Please check your dataset path.\")\n",
    "\n",
    "# Check required columns\n",
    "required_cols = [\"Prompt\", \"isMalicious\"]\n",
    "missing_cols = [col for col in required_cols if col not in df.columns]\n",
    "if missing_cols:\n",
    "    print(\"Available columns:\", df.columns.tolist())\n",
    "    raise ValueError(f\"Missing columns: {missing_cols}\")\n",
    "\n",
    "print(f\"Dataset shape: {df.shape}\")\n",
    "print(\"\\nClass distribution:\")\n",
    "print(df[\"isMalicious\"].value_counts(normalize=True))\n",
    "print(\"\\nFirst few rows:\")\n",
    "print(df.head())"
   ]
  },
  {
   "cell_type": "code",
   "execution_count": 6,
   "metadata": {
    "execution": {
     "iopub.execute_input": "2025-07-21T14:02:01.572614Z",
     "iopub.status.busy": "2025-07-21T14:02:01.572080Z",
     "iopub.status.idle": "2025-07-21T14:02:01.712965Z",
     "shell.execute_reply": "2025-07-21T14:02:01.712200Z",
     "shell.execute_reply.started": "2025-07-21T14:02:01.572591Z"
    }
   },
   "outputs": [
    {
     "name": "stdout",
     "output_type": "stream",
     "text": [
      "Training set size: 31387\n",
      "Test set size: 7847\n",
      "Data preparation completed successfully\n"
     ]
    }
   ],
   "source": [
    "train_texts, test_texts, train_labels, test_labels = train_test_split(\n",
    "    df[\"Prompt\"], \n",
    "    df[\"isMalicious\"], \n",
    "    test_size=0.2, \n",
    "    random_state=42, \n",
    "    stratify=df[\"isMalicious\"]\n",
    ")\n",
    "\n",
    "print(f\"Training set size: {len(train_texts)}\")\n",
    "print(f\"Test set size: {len(test_texts)}\")\n",
    "\n",
    "# Create DataFrames\n",
    "train_df = pd.DataFrame({\"text\": train_texts, \"label\": train_labels})\n",
    "test_df = pd.DataFrame({\"text\": test_texts, \"label\": test_labels})\n",
    "\n",
    "# Convert to HuggingFace datasets\n",
    "train_ds = Dataset.from_pandas(train_df)\n",
    "test_ds = Dataset.from_pandas(test_df)\n",
    "\n",
    "print(\"Data preparation completed successfully\")"
   ]
  },
  {
   "cell_type": "code",
   "execution_count": 7,
   "metadata": {
    "execution": {
     "iopub.execute_input": "2025-07-21T14:02:54.936954Z",
     "iopub.status.busy": "2025-07-21T14:02:54.936180Z",
     "iopub.status.idle": "2025-07-21T14:02:54.941899Z",
     "shell.execute_reply": "2025-07-21T14:02:54.941049Z",
     "shell.execute_reply.started": "2025-07-21T14:02:54.936916Z"
    }
   },
   "outputs": [
    {
     "name": "stdout",
     "output_type": "stream",
     "text": [
      "Will train 4 models: ['bert-base-uncased', 'roberta-base', 'distilbert-base-uncased', 'microsoft/deberta-base']\n"
     ]
    }
   ],
   "source": [
    "models_to_try = [\n",
    "    \"bert-base-uncased\",\n",
    "    \"roberta-base\", \n",
    "    \"distilbert-base-uncased\",\n",
    "    \"microsoft/deberta-base\"\n",
    "]\n",
    "\n",
    "results = []\n",
    "print(f\"Will train {len(models_to_try)} models: {models_to_try}\")"
   ]
  },
  {
   "cell_type": "code",
   "execution_count": 8,
   "metadata": {
    "execution": {
     "iopub.execute_input": "2025-07-21T14:02:56.388441Z",
     "iopub.status.busy": "2025-07-21T14:02:56.387773Z",
     "iopub.status.idle": "2025-07-21T15:27:03.322271Z",
     "shell.execute_reply": "2025-07-21T15:27:03.321497Z",
     "shell.execute_reply.started": "2025-07-21T14:02:56.388414Z"
    }
   },
   "outputs": [
    {
     "name": "stdout",
     "output_type": "stream",
     "text": [
      "\n",
      "============================================================\n",
      "Training bert-base-uncased (1/4)\n",
      "============================================================\n",
      "Loading tokenizer for bert-base-uncased...\n",
      "Tokenizing datasets...\n"
     ]
    },
    {
     "data": {
      "application/vnd.jupyter.widget-view+json": {
       "model_id": "ad1ee70222224effa5426fec84a8f820",
       "version_major": 2,
       "version_minor": 0
      },
      "text/plain": [
       "Map:   0%|          | 0/31387 [00:00<?, ? examples/s]"
      ]
     },
     "metadata": {},
     "output_type": "display_data"
    },
    {
     "data": {
      "application/vnd.jupyter.widget-view+json": {
       "model_id": "4281ad27172540f58fcc3024d4335d73",
       "version_major": 2,
       "version_minor": 0
      },
      "text/plain": [
       "Map:   0%|          | 0/7847 [00:00<?, ? examples/s]"
      ]
     },
     "metadata": {},
     "output_type": "display_data"
    },
    {
     "name": "stdout",
     "output_type": "stream",
     "text": [
      "Loading model bert-base-uncased...\n"
     ]
    },
    {
     "name": "stderr",
     "output_type": "stream",
     "text": [
      "Some weights of BertForSequenceClassification were not initialized from the model checkpoint at bert-base-uncased and are newly initialized: ['classifier.bias', 'classifier.weight']\n",
      "You should probably TRAIN this model on a down-stream task to be able to use it for predictions and inference.\n"
     ]
    },
    {
     "name": "stdout",
     "output_type": "stream",
     "text": [
      "Starting training for bert-base-uncased...\n"
     ]
    },
    {
     "data": {
      "text/html": [
       "\n",
       "    <div>\n",
       "      \n",
       "      <progress value='5886' max='5886' style='width:300px; height:20px; vertical-align: middle;'></progress>\n",
       "      [5886/5886 21:43, Epoch 3/3]\n",
       "    </div>\n",
       "    <table border=\"1\" class=\"dataframe\">\n",
       "  <thead>\n",
       " <tr style=\"text-align: left;\">\n",
       "      <th>Epoch</th>\n",
       "      <th>Training Loss</th>\n",
       "      <th>Validation Loss</th>\n",
       "      <th>Accuracy</th>\n",
       "      <th>F1</th>\n",
       "    </tr>\n",
       "  </thead>\n",
       "  <tbody>\n",
       "    <tr>\n",
       "      <td>1</td>\n",
       "      <td>0.084500</td>\n",
       "      <td>0.081605</td>\n",
       "      <td>0.975914</td>\n",
       "      <td>0.975685</td>\n",
       "    </tr>\n",
       "    <tr>\n",
       "      <td>2</td>\n",
       "      <td>0.045200</td>\n",
       "      <td>0.092666</td>\n",
       "      <td>0.978845</td>\n",
       "      <td>0.978723</td>\n",
       "    </tr>\n",
       "    <tr>\n",
       "      <td>3</td>\n",
       "      <td>0.022400</td>\n",
       "      <td>0.126314</td>\n",
       "      <td>0.974513</td>\n",
       "      <td>0.974690</td>\n",
       "    </tr>\n",
       "  </tbody>\n",
       "</table><p>"
      ],
      "text/plain": [
       "<IPython.core.display.HTML object>"
      ]
     },
     "metadata": {},
     "output_type": "display_data"
    },
    {
     "name": "stdout",
     "output_type": "stream",
     "text": [
      "Evaluating bert-base-uncased...\n"
     ]
    },
    {
     "data": {
      "text/html": [
       "\n",
       "    <div>\n",
       "      \n",
       "      <progress value='246' max='246' style='width:300px; height:20px; vertical-align: middle;'></progress>\n",
       "      [246/246 00:27]\n",
       "    </div>\n",
       "    "
      ],
      "text/plain": [
       "<IPython.core.display.HTML object>"
      ]
     },
     "metadata": {},
     "output_type": "display_data"
    },
    {
     "name": "stdout",
     "output_type": "stream",
     "text": [
      "\n",
      "Results for bert-base-uncased:\n",
      "  eval_loss: 0.1263\n",
      "  eval_accuracy: 0.9745\n",
      "  eval_f1: 0.9747\n",
      "  eval_runtime: 27.1346\n",
      "  eval_samples_per_second: 289.1880\n",
      "  eval_steps_per_second: 9.0660\n",
      "  epoch: 3.0000\n",
      "Successfully completed training for bert-base-uncased\n",
      "\n",
      "============================================================\n",
      "Training roberta-base (2/4)\n",
      "============================================================\n",
      "Loading tokenizer for roberta-base...\n",
      "Tokenizing datasets...\n"
     ]
    },
    {
     "data": {
      "application/vnd.jupyter.widget-view+json": {
       "model_id": "05f9ee446de5430cab413aafed485983",
       "version_major": 2,
       "version_minor": 0
      },
      "text/plain": [
       "Map:   0%|          | 0/31387 [00:00<?, ? examples/s]"
      ]
     },
     "metadata": {},
     "output_type": "display_data"
    },
    {
     "data": {
      "application/vnd.jupyter.widget-view+json": {
       "model_id": "13e7d48b236f4992a711916abcd883d8",
       "version_major": 2,
       "version_minor": 0
      },
      "text/plain": [
       "Map:   0%|          | 0/7847 [00:00<?, ? examples/s]"
      ]
     },
     "metadata": {},
     "output_type": "display_data"
    },
    {
     "name": "stdout",
     "output_type": "stream",
     "text": [
      "Loading model roberta-base...\n"
     ]
    },
    {
     "name": "stderr",
     "output_type": "stream",
     "text": [
      "Some weights of RobertaForSequenceClassification were not initialized from the model checkpoint at roberta-base and are newly initialized: ['classifier.dense.bias', 'classifier.dense.weight', 'classifier.out_proj.bias', 'classifier.out_proj.weight']\n",
      "You should probably TRAIN this model on a down-stream task to be able to use it for predictions and inference.\n"
     ]
    },
    {
     "name": "stdout",
     "output_type": "stream",
     "text": [
      "Starting training for roberta-base...\n"
     ]
    },
    {
     "data": {
      "text/html": [
       "\n",
       "    <div>\n",
       "      \n",
       "      <progress value='5886' max='5886' style='width:300px; height:20px; vertical-align: middle;'></progress>\n",
       "      [5886/5886 22:00, Epoch 3/3]\n",
       "    </div>\n",
       "    <table border=\"1\" class=\"dataframe\">\n",
       "  <thead>\n",
       " <tr style=\"text-align: left;\">\n",
       "      <th>Epoch</th>\n",
       "      <th>Training Loss</th>\n",
       "      <th>Validation Loss</th>\n",
       "      <th>Accuracy</th>\n",
       "      <th>F1</th>\n",
       "    </tr>\n",
       "  </thead>\n",
       "  <tbody>\n",
       "    <tr>\n",
       "      <td>1</td>\n",
       "      <td>0.106400</td>\n",
       "      <td>0.108457</td>\n",
       "      <td>0.966102</td>\n",
       "      <td>0.966372</td>\n",
       "    </tr>\n",
       "    <tr>\n",
       "      <td>2</td>\n",
       "      <td>0.082800</td>\n",
       "      <td>0.076818</td>\n",
       "      <td>0.980120</td>\n",
       "      <td>0.980041</td>\n",
       "    </tr>\n",
       "    <tr>\n",
       "      <td>3</td>\n",
       "      <td>0.033700</td>\n",
       "      <td>0.108674</td>\n",
       "      <td>0.977316</td>\n",
       "      <td>0.977440</td>\n",
       "    </tr>\n",
       "  </tbody>\n",
       "</table><p>"
      ],
      "text/plain": [
       "<IPython.core.display.HTML object>"
      ]
     },
     "metadata": {},
     "output_type": "display_data"
    },
    {
     "name": "stdout",
     "output_type": "stream",
     "text": [
      "Evaluating roberta-base...\n"
     ]
    },
    {
     "data": {
      "text/html": [
       "\n",
       "    <div>\n",
       "      \n",
       "      <progress value='246' max='246' style='width:300px; height:20px; vertical-align: middle;'></progress>\n",
       "      [246/246 00:26]\n",
       "    </div>\n",
       "    "
      ],
      "text/plain": [
       "<IPython.core.display.HTML object>"
      ]
     },
     "metadata": {},
     "output_type": "display_data"
    },
    {
     "name": "stdout",
     "output_type": "stream",
     "text": [
      "\n",
      "Results for roberta-base:\n",
      "  eval_loss: 0.1087\n",
      "  eval_accuracy: 0.9773\n",
      "  eval_f1: 0.9774\n",
      "  eval_runtime: 26.9461\n",
      "  eval_samples_per_second: 291.2110\n",
      "  eval_steps_per_second: 9.1290\n",
      "  epoch: 3.0000\n",
      "Successfully completed training for roberta-base\n",
      "\n",
      "============================================================\n",
      "Training distilbert-base-uncased (3/4)\n",
      "============================================================\n",
      "Loading tokenizer for distilbert-base-uncased...\n",
      "Tokenizing datasets...\n"
     ]
    },
    {
     "data": {
      "application/vnd.jupyter.widget-view+json": {
       "model_id": "00e102a4a17340bcaf90b6a361d7f06d",
       "version_major": 2,
       "version_minor": 0
      },
      "text/plain": [
       "Map:   0%|          | 0/31387 [00:00<?, ? examples/s]"
      ]
     },
     "metadata": {},
     "output_type": "display_data"
    },
    {
     "data": {
      "application/vnd.jupyter.widget-view+json": {
       "model_id": "677af2e0eb344d73aa8be082595a2212",
       "version_major": 2,
       "version_minor": 0
      },
      "text/plain": [
       "Map:   0%|          | 0/7847 [00:00<?, ? examples/s]"
      ]
     },
     "metadata": {},
     "output_type": "display_data"
    },
    {
     "name": "stdout",
     "output_type": "stream",
     "text": [
      "Loading model distilbert-base-uncased...\n"
     ]
    },
    {
     "data": {
      "application/vnd.jupyter.widget-view+json": {
       "model_id": "a05a9d2563b6413e9addc937439f1a1c",
       "version_major": 2,
       "version_minor": 0
      },
      "text/plain": [
       "model.safetensors:   0%|          | 0.00/268M [00:00<?, ?B/s]"
      ]
     },
     "metadata": {},
     "output_type": "display_data"
    },
    {
     "name": "stderr",
     "output_type": "stream",
     "text": [
      "Some weights of DistilBertForSequenceClassification were not initialized from the model checkpoint at distilbert-base-uncased and are newly initialized: ['classifier.bias', 'classifier.weight', 'pre_classifier.bias', 'pre_classifier.weight']\n",
      "You should probably TRAIN this model on a down-stream task to be able to use it for predictions and inference.\n"
     ]
    },
    {
     "name": "stdout",
     "output_type": "stream",
     "text": [
      "Starting training for distilbert-base-uncased...\n"
     ]
    },
    {
     "data": {
      "text/html": [
       "\n",
       "    <div>\n",
       "      \n",
       "      <progress value='5886' max='5886' style='width:300px; height:20px; vertical-align: middle;'></progress>\n",
       "      [5886/5886 11:03, Epoch 3/3]\n",
       "    </div>\n",
       "    <table border=\"1\" class=\"dataframe\">\n",
       "  <thead>\n",
       " <tr style=\"text-align: left;\">\n",
       "      <th>Epoch</th>\n",
       "      <th>Training Loss</th>\n",
       "      <th>Validation Loss</th>\n",
       "      <th>Accuracy</th>\n",
       "      <th>F1</th>\n",
       "    </tr>\n",
       "  </thead>\n",
       "  <tbody>\n",
       "    <tr>\n",
       "      <td>1</td>\n",
       "      <td>0.099000</td>\n",
       "      <td>0.078954</td>\n",
       "      <td>0.975405</td>\n",
       "      <td>0.975029</td>\n",
       "    </tr>\n",
       "    <tr>\n",
       "      <td>2</td>\n",
       "      <td>0.040400</td>\n",
       "      <td>0.080040</td>\n",
       "      <td>0.980502</td>\n",
       "      <td>0.980311</td>\n",
       "    </tr>\n",
       "    <tr>\n",
       "      <td>3</td>\n",
       "      <td>0.013300</td>\n",
       "      <td>0.095157</td>\n",
       "      <td>0.978208</td>\n",
       "      <td>0.978186</td>\n",
       "    </tr>\n",
       "  </tbody>\n",
       "</table><p>"
      ],
      "text/plain": [
       "<IPython.core.display.HTML object>"
      ]
     },
     "metadata": {},
     "output_type": "display_data"
    },
    {
     "name": "stdout",
     "output_type": "stream",
     "text": [
      "Evaluating distilbert-base-uncased...\n"
     ]
    },
    {
     "data": {
      "text/html": [
       "\n",
       "    <div>\n",
       "      \n",
       "      <progress value='246' max='246' style='width:300px; height:20px; vertical-align: middle;'></progress>\n",
       "      [246/246 00:13]\n",
       "    </div>\n",
       "    "
      ],
      "text/plain": [
       "<IPython.core.display.HTML object>"
      ]
     },
     "metadata": {},
     "output_type": "display_data"
    },
    {
     "name": "stdout",
     "output_type": "stream",
     "text": [
      "\n",
      "Results for distilbert-base-uncased:\n",
      "  eval_loss: 0.0952\n",
      "  eval_accuracy: 0.9782\n",
      "  eval_f1: 0.9782\n",
      "  eval_runtime: 13.7745\n",
      "  eval_samples_per_second: 569.6750\n",
      "  eval_steps_per_second: 17.8590\n",
      "  epoch: 3.0000\n",
      "Successfully completed training for distilbert-base-uncased\n",
      "\n",
      "============================================================\n",
      "Training microsoft/deberta-base (4/4)\n",
      "============================================================\n",
      "Loading tokenizer for microsoft/deberta-base...\n"
     ]
    },
    {
     "data": {
      "application/vnd.jupyter.widget-view+json": {
       "model_id": "c9c90c4f88a94e1199ab55a046f2b291",
       "version_major": 2,
       "version_minor": 0
      },
      "text/plain": [
       "tokenizer_config.json:   0%|          | 0.00/52.0 [00:00<?, ?B/s]"
      ]
     },
     "metadata": {},
     "output_type": "display_data"
    },
    {
     "data": {
      "application/vnd.jupyter.widget-view+json": {
       "model_id": "af67f626065e451794aec92c2e9ddc57",
       "version_major": 2,
       "version_minor": 0
      },
      "text/plain": [
       "config.json:   0%|          | 0.00/474 [00:00<?, ?B/s]"
      ]
     },
     "metadata": {},
     "output_type": "display_data"
    },
    {
     "data": {
      "application/vnd.jupyter.widget-view+json": {
       "model_id": "0b2d8b370c064178a63c9502ef46c866",
       "version_major": 2,
       "version_minor": 0
      },
      "text/plain": [
       "vocab.json: 0.00B [00:00, ?B/s]"
      ]
     },
     "metadata": {},
     "output_type": "display_data"
    },
    {
     "data": {
      "application/vnd.jupyter.widget-view+json": {
       "model_id": "f0efaa2d038d47af9c853811280c08e5",
       "version_major": 2,
       "version_minor": 0
      },
      "text/plain": [
       "merges.txt: 0.00B [00:00, ?B/s]"
      ]
     },
     "metadata": {},
     "output_type": "display_data"
    },
    {
     "name": "stdout",
     "output_type": "stream",
     "text": [
      "Tokenizing datasets...\n"
     ]
    },
    {
     "data": {
      "application/vnd.jupyter.widget-view+json": {
       "model_id": "6030433bf91243bf88cad06a4c73b12b",
       "version_major": 2,
       "version_minor": 0
      },
      "text/plain": [
       "Map:   0%|          | 0/31387 [00:00<?, ? examples/s]"
      ]
     },
     "metadata": {},
     "output_type": "display_data"
    },
    {
     "data": {
      "application/vnd.jupyter.widget-view+json": {
       "model_id": "ffabffcae05c436ea7d154bdfa3f42c4",
       "version_major": 2,
       "version_minor": 0
      },
      "text/plain": [
       "Map:   0%|          | 0/7847 [00:00<?, ? examples/s]"
      ]
     },
     "metadata": {},
     "output_type": "display_data"
    },
    {
     "name": "stdout",
     "output_type": "stream",
     "text": [
      "Loading model microsoft/deberta-base...\n"
     ]
    },
    {
     "data": {
      "application/vnd.jupyter.widget-view+json": {
       "model_id": "b71d277d69114ed4b71641b5b071c335",
       "version_major": 2,
       "version_minor": 0
      },
      "text/plain": [
       "pytorch_model.bin:   0%|          | 0.00/559M [00:00<?, ?B/s]"
      ]
     },
     "metadata": {},
     "output_type": "display_data"
    },
    {
     "name": "stderr",
     "output_type": "stream",
     "text": [
      "Some weights of DebertaForSequenceClassification were not initialized from the model checkpoint at microsoft/deberta-base and are newly initialized: ['classifier.bias', 'classifier.weight', 'pooler.dense.bias', 'pooler.dense.weight']\n",
      "You should probably TRAIN this model on a down-stream task to be able to use it for predictions and inference.\n"
     ]
    },
    {
     "name": "stdout",
     "output_type": "stream",
     "text": [
      "Starting training for microsoft/deberta-base...\n"
     ]
    },
    {
     "data": {
      "text/html": [
       "\n",
       "    <div>\n",
       "      \n",
       "      <progress value='5886' max='5886' style='width:300px; height:20px; vertical-align: middle;'></progress>\n",
       "      [5886/5886 26:49, Epoch 3/3]\n",
       "    </div>\n",
       "    <table border=\"1\" class=\"dataframe\">\n",
       "  <thead>\n",
       " <tr style=\"text-align: left;\">\n",
       "      <th>Epoch</th>\n",
       "      <th>Training Loss</th>\n",
       "      <th>Validation Loss</th>\n",
       "      <th>Accuracy</th>\n",
       "      <th>F1</th>\n",
       "    </tr>\n",
       "  </thead>\n",
       "  <tbody>\n",
       "    <tr>\n",
       "      <td>1</td>\n",
       "      <td>0.100500</td>\n",
       "      <td>0.073889</td>\n",
       "      <td>0.977316</td>\n",
       "      <td>0.977220</td>\n",
       "    </tr>\n",
       "    <tr>\n",
       "      <td>2</td>\n",
       "      <td>0.066900</td>\n",
       "      <td>0.075907</td>\n",
       "      <td>0.982031</td>\n",
       "      <td>0.981921</td>\n",
       "    </tr>\n",
       "    <tr>\n",
       "      <td>3</td>\n",
       "      <td>0.019200</td>\n",
       "      <td>0.102143</td>\n",
       "      <td>0.977826</td>\n",
       "      <td>0.977975</td>\n",
       "    </tr>\n",
       "  </tbody>\n",
       "</table><p>"
      ],
      "text/plain": [
       "<IPython.core.display.HTML object>"
      ]
     },
     "metadata": {},
     "output_type": "display_data"
    },
    {
     "data": {
      "application/vnd.jupyter.widget-view+json": {
       "model_id": "5ceb5cf387c343bf8d16f02c6a334bd8",
       "version_major": 2,
       "version_minor": 0
      },
      "text/plain": [
       "model.safetensors:   0%|          | 0.00/559M [00:00<?, ?B/s]"
      ]
     },
     "metadata": {},
     "output_type": "display_data"
    },
    {
     "name": "stdout",
     "output_type": "stream",
     "text": [
      "Evaluating microsoft/deberta-base...\n"
     ]
    },
    {
     "data": {
      "text/html": [
       "\n",
       "    <div>\n",
       "      \n",
       "      <progress value='246' max='246' style='width:300px; height:20px; vertical-align: middle;'></progress>\n",
       "      [246/246 00:36]\n",
       "    </div>\n",
       "    "
      ],
      "text/plain": [
       "<IPython.core.display.HTML object>"
      ]
     },
     "metadata": {},
     "output_type": "display_data"
    },
    {
     "name": "stdout",
     "output_type": "stream",
     "text": [
      "\n",
      "Results for microsoft/deberta-base:\n",
      "  eval_loss: 0.1021\n",
      "  eval_accuracy: 0.9778\n",
      "  eval_f1: 0.9780\n",
      "  eval_runtime: 36.3728\n",
      "  eval_samples_per_second: 215.7380\n",
      "  eval_steps_per_second: 6.7630\n",
      "  epoch: 3.0000\n",
      "Successfully completed training for microsoft/deberta-base\n",
      "\n",
      "Training completed for all models!\n"
     ]
    }
   ],
   "source": [
    "for i, model_name in enumerate(models_to_try):\n",
    "    print(f\"\\n{'='*60}\")\n",
    "    print(f\"Training {model_name} ({i+1}/{len(models_to_try)})\")\n",
    "    print(f\"{'='*60}\")\n",
    "    \n",
    "    try:\n",
    "        # Load tokenizer\n",
    "        print(f\"Loading tokenizer for {model_name}...\")\n",
    "        tokenizer = AutoTokenizer.from_pretrained(model_name)\n",
    "        \n",
    "        def preprocess(examples):\n",
    "            return tokenizer(\n",
    "                examples[\"text\"], \n",
    "                truncation=True, \n",
    "                padding=\"max_length\", \n",
    "                max_length=128\n",
    "            )\n",
    "        \n",
    "        # Tokenize datasets\n",
    "        print(\"Tokenizing datasets...\")\n",
    "        tokenized_train = train_ds.map(preprocess, batched=True)\n",
    "        tokenized_test = test_ds.map(preprocess, batched=True)\n",
    "        \n",
    "        # Remove unnecessary columns\n",
    "        cols_to_remove = []\n",
    "        for col in [\"text\", \"__index_level_0__\"]:\n",
    "            if col in tokenized_train.column_names:\n",
    "                cols_to_remove.append(col)\n",
    "        \n",
    "        if cols_to_remove:\n",
    "            tokenized_train = tokenized_train.remove_columns(cols_to_remove)\n",
    "            tokenized_test = tokenized_test.remove_columns(cols_to_remove)\n",
    "        \n",
    "        # Set format for PyTorch\n",
    "        tokenized_train.set_format(\"torch\")\n",
    "        tokenized_test.set_format(\"torch\")\n",
    "        \n",
    "        # Load model\n",
    "        print(f\"Loading model {model_name}...\")\n",
    "        model = AutoModelForSequenceClassification.from_pretrained(\n",
    "            model_name, \n",
    "            num_labels=2\n",
    "        )\n",
    "        \n",
    "        # Training arguments\n",
    "        output_dir = f\"./results/{model_name.replace('/', '_')}\"\n",
    "        training_args = TrainingArguments(\n",
    "            output_dir=output_dir,\n",
    "            eval_strategy=\"epoch\",\n",
    "            save_strategy=\"no\",\n",
    "            num_train_epochs=3,\n",
    "            per_device_train_batch_size=16,\n",
    "            per_device_eval_batch_size=32,\n",
    "            learning_rate=2e-5,\n",
    "            logging_steps=50,\n",
    "            logging_dir=\"./logs\",\n",
    "            report_to=\"none\",\n",
    "            dataloader_num_workers=0,\n",
    "            disable_tqdm=False\n",
    "        )\n",
    "        \n",
    "        # Create trainer\n",
    "        trainer = Trainer(\n",
    "            model=model,\n",
    "            args=training_args,\n",
    "            train_dataset=tokenized_train,\n",
    "            eval_dataset=tokenized_test,\n",
    "            compute_metrics=compute_metrics\n",
    "        )\n",
    "        \n",
    "        # Train model\n",
    "        print(f\"Starting training for {model_name}...\")\n",
    "        trainer.train()\n",
    "        \n",
    "        # Evaluate model\n",
    "        print(f\"Evaluating {model_name}...\")\n",
    "        eval_result = trainer.evaluate()\n",
    "        \n",
    "        print(f\"\\nResults for {model_name}:\")\n",
    "        for key, value in eval_result.items():\n",
    "            if isinstance(value, (int, float)):\n",
    "                print(f\"  {key}: {value:.4f}\")\n",
    "            else:\n",
    "                print(f\"  {key}: {value}\")\n",
    "        \n",
    "        # Store results\n",
    "        results.append({\n",
    "            \"Model\": model_name,\n",
    "            \"Accuracy\": eval_result[\"eval_accuracy\"],\n",
    "            \"F1\": eval_result[\"eval_f1\"]\n",
    "        })\n",
    "        \n",
    "        print(f\"Successfully completed training for {model_name}\")\n",
    "        \n",
    "        # Clean up memory after each model\n",
    "        del model, trainer, tokenizer\n",
    "        clean_memory()\n",
    "        \n",
    "    except Exception as e:\n",
    "        print(f\"Error training {model_name}: {str(e)}\")\n",
    "        results.append({\n",
    "            \"Model\": model_name,\n",
    "            \"Accuracy\": 0.0,\n",
    "            \"F1\": 0.0,\n",
    "            \"Error\": str(e)\n",
    "        })\n",
    "        clean_memory()\n",
    "        continue\n",
    "\n",
    "print(\"\\nTraining completed for all models!\")"
   ]
  },
  {
   "cell_type": "code",
   "execution_count": 10,
   "metadata": {
    "execution": {
     "iopub.execute_input": "2025-07-21T15:36:09.613845Z",
     "iopub.status.busy": "2025-07-21T15:36:09.613522Z",
     "iopub.status.idle": "2025-07-21T15:36:10.471686Z",
     "shell.execute_reply": "2025-07-21T15:36:10.470957Z",
     "shell.execute_reply.started": "2025-07-21T15:36:09.613806Z"
    }
   },
   "outputs": [
    {
     "name": "stdout",
     "output_type": "stream",
     "text": [
      "\n",
      "============================================================\n",
      "FINAL RESULTS\n",
      "============================================================\n",
      "                  Model  Accuracy       F1\n",
      "      bert-base-uncased  0.974513 0.974690\n",
      "           roberta-base  0.977316 0.977440\n",
      "distilbert-base-uncased  0.978208 0.978186\n",
      " microsoft/deberta-base  0.977826 0.977975\n",
      "\n",
      "Plotting results for 4 successful models\n"
     ]
    },
    {
     "data": {
      "image/png": "[encoded data removed]",
      "text/plain": [
       "<Figure size 1400x600 with 2 Axes>"
      ]
     },
     "metadata": {},
     "output_type": "display_data"
    },
    {
     "name": "stdout",
     "output_type": "stream",
     "text": [
      "\n",
      "Best F1 Score: distilbert-base-uncased (0.9782)\n",
      "Best Accuracy: distilbert-base-uncased (0.9782)\n",
      "\n",
      "Results saved to: results_transformers.csv\n",
      "Comparison plot saved to: transformers_models_comparison.png\n"
     ]
    }
   ],
   "source": [
    "results_df = pd.DataFrame(results)\n",
    "results_df.to_csv(\"results_transformers.csv\", index=False)\n",
    "\n",
    "print(\"\\n\" + \"=\"*60)\n",
    "print(\"FINAL RESULTS\")\n",
    "print(\"=\"*60)\n",
    "print(results_df.to_string(index=False))\n",
    "\n",
    "# Filter out failed models for plotting - fixed indexing issue\n",
    "if 'Error' in results_df.columns:\n",
    "    successful_results = results_df[results_df['Error'].isna()].copy()\n",
    "else:\n",
    "    successful_results = results_df.copy()\n",
    "\n",
    "# Reset index to avoid indexing issues\n",
    "successful_results = successful_results.reset_index(drop=True)\n",
    "\n",
    "if len(successful_results) > 0:\n",
    "    print(f\"\\nPlotting results for {len(successful_results)} successful models\")\n",
    "    plot_results(successful_results)\n",
    "    \n",
    "    # Print best performing models\n",
    "    if len(successful_results) > 0:\n",
    "        best_f1_idx = successful_results['F1'].idxmax()\n",
    "        best_acc_idx = successful_results['Accuracy'].idxmax()\n",
    "        \n",
    "        best_f1_model = successful_results.iloc[best_f1_idx]\n",
    "        best_acc_model = successful_results.iloc[best_acc_idx]\n",
    "        \n",
    "        print(f\"\\nBest F1 Score: {best_f1_model['Model']} ({best_f1_model['F1']:.4f})\")\n",
    "        print(f\"Best Accuracy: {best_acc_model['Model']} ({best_acc_model['Accuracy']:.4f})\")\n",
    "else:\n",
    "    print(\"\\nNo models trained successfully. Check the errors above.\")\n",
    "\n",
    "print(f\"\\nResults saved to: results_transformers.csv\")\n",
    "print(f\"Comparison plot saved to: transformers_models_comparison.png\")\n"
   ]
  },
  {
   "cell_type": "code",
   "execution_count": 11,
   "metadata": {
    "execution": {
     "iopub.execute_input": "2025-07-21T15:36:19.474241Z",
     "iopub.status.busy": "2025-07-21T15:36:19.473951Z",
     "iopub.status.idle": "2025-07-21T15:36:19.480173Z",
     "shell.execute_reply": "2025-07-21T15:36:19.479498Z",
     "shell.execute_reply.started": "2025-07-21T15:36:19.474221Z"
    }
   },
   "outputs": [
    {
     "name": "stdout",
     "output_type": "stream",
     "text": [
      "\n",
      "============================================================\n",
      "SUMMARY\n",
      "============================================================\n",
      "Dataset size: 39234 samples\n",
      "Training samples: 31387\n",
      "Test samples: 7847\n",
      "Models attempted: 4\n",
      "Models successful: 4\n",
      "Best overall F1 score: 0.9782\n",
      "Best overall accuracy: 0.9782\n",
      "\n",
      "Training completed successfully!\n"
     ]
    }
   ],
   "source": [
    "print(\"\\n\" + \"=\"*60)\n",
    "print(\"SUMMARY\")\n",
    "print(\"=\"*60)\n",
    "print(f\"Dataset size: {df.shape[0]} samples\")\n",
    "print(f\"Training samples: {len(train_texts)}\")\n",
    "print(f\"Test samples: {len(test_texts)}\")\n",
    "print(f\"Models attempted: {len(models_to_try)}\")\n",
    "print(f\"Models successful: {len(successful_results)}\")\n",
    "\n",
    "if len(successful_results) > 0:\n",
    "    print(f\"Best overall F1 score: {successful_results['F1'].max():.4f}\")\n",
    "    print(f\"Best overall accuracy: {successful_results['Accuracy'].max():.4f}\")\n",
    "\n",
    "print(\"\\nTraining completed successfully!\")"
   ]
  },
  {
   "cell_type": "code",
   "execution_count": 12,
   "metadata": {
    "execution": {
     "iopub.execute_input": "2025-07-21T16:27:39.727944Z",
     "iopub.status.busy": "2025-07-21T16:27:39.727586Z",
     "iopub.status.idle": "2025-07-21T16:27:40.296327Z",
     "shell.execute_reply": "2025-07-21T16:27:40.295088Z",
     "shell.execute_reply.started": "2025-07-21T16:27:39.727919Z"
    }
   },
   "outputs": [
    {
     "name": "stderr",
     "output_type": "stream",
     "text": [
      "huggingface/tokenizers: The current process just got forked, after parallelism has already been used. Disabling parallelism to avoid deadlocks...\n",
      "To disable this warning, you can either:\n",
      "\t- Avoid using `tokenizers` before the fork if possible\n",
      "\t- Explicitly set the environment variable TOKENIZERS_PARALLELISM=(true | false)\n",
      "huggingface/tokenizers: The current process just got forked, after parallelism has already been used. Disabling parallelism to avoid deadlocks...\n",
      "To disable this warning, you can either:\n",
      "\t- Avoid using `tokenizers` before the fork if possible\n",
      "\t- Explicitly set the environment variable TOKENIZERS_PARALLELISM=(true | false)\n"
     ]
    },
    {
     "name": "stdout",
     "output_type": "stream",
     "text": [
      "  adding: results/ (stored 0%)\n",
      "  adding: results/microsoft_deberta-base/ (stored 0%)\n",
      "  adding: results/roberta-base/ (stored 0%)\n",
      "  adding: results/distilbert-base-uncased/ (stored 0%)\n",
      "  adding: results/bert-base-uncased/ (stored 0%)\n",
      "  adding: results_transformers.csv (deflated 38%)\n",
      "  adding: .virtual_documents/ (stored 0%)\n",
      "  adding: transformers_models_comparison.png (deflated 36%)\n",
      "-rw-r--r-- 1 root root 75K Jul 21 16:27 output.zip\n"
     ]
    },
    {
     "name": "stderr",
     "output_type": "stream",
     "text": [
      "huggingface/tokenizers: The current process just got forked, after parallelism has already been used. Disabling parallelism to avoid deadlocks...\n",
      "To disable this warning, you can either:\n",
      "\t- Avoid using `tokenizers` before the fork if possible\n",
      "\t- Explicitly set the environment variable TOKENIZERS_PARALLELISM=(true | false)\n"
     ]
    }
   ],
   "source": [
    "# This cell is only here to create a zip file on Kaggle.\n",
    "!cd /kaggle/working\n",
    "!zip -r output.zip . \n",
    "!ls -lh output.zip\n"
   ]
  }
 ],
 "metadata": {
  "kaggle": {
   "accelerator": "gpu",
   "dataSources": [
    {
     "datasetId": 7908418,
     "sourceId": 12528104,
     "sourceType": "datasetVersion"
    }
   ],
   "dockerImageVersionId": 31089,
   "isGpuEnabled": true,
   "isInternetEnabled": true,
   "language": "python",
   "sourceType": "notebook"
  },
  "kernelspec": {
   "display_name": "Python 3 (ipykernel)",
   "language": "python",
   "name": "python3"
  },
  "language_info": {
   "codemirror_mode": {
    "name": "ipython",
    "version": 3
   },
   "file_extension": ".py",
   "mimetype": "text/x-python",
   "name": "python",
   "nbconvert_exporter": "python",
   "pygments_lexer": "ipython3",
   "version": "3.11.13"
  }
 },
 "nbformat": 4,
 "nbformat_minor": 4
}
